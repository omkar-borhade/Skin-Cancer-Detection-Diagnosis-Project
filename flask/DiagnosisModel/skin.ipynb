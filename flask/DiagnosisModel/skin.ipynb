{
 "cells": [
  {
   "cell_type": "code",
   "execution_count": null,
   "metadata": {},
   "outputs": [],
   "source": [
    "import os\n",
    "import numpy as np\n",
    "import tensorflow as tf\n",
    "from tensorflow.keras.models import Sequential\n",
    "from tensorflow.keras.layers import Conv2D, MaxPooling2D, Flatten, Dense, Dropout\n",
    "from tensorflow.keras.preprocessing.image import ImageDataGenerator\n",
    "import matplotlib.pyplot as plt\n"
   ]
  },
  {
   "cell_type": "code",
   "execution_count": 2,
   "metadata": {},
   "outputs": [],
   "source": [
    "# Constants\n",
    "IMG_SIZE = (128, 128)\n",
    "BATCH_SIZE = 32\n",
    "EPOCHS = 20\n",
    "DATA_DIR = r\"F:/modal1/\"\n"
   ]
  },
  {
   "cell_type": "code",
   "execution_count": 3,
   "metadata": {},
   "outputs": [],
   "source": [
    "# Hair removal function\n",
    "def remove_hair(image_path): \n",
    "    \"\"\"Remove hair from the image without blurring.\"\"\"\n",
    "    try:\n",
    "        image = cv2.imread(image_path)\n",
    "        if image is None:\n",
    "            raise ValueError(\"Invalid image path or format.\")\n",
    "\n",
    "        original_image = image.copy()  # Keep the original image for comparison\n",
    "\n",
    "        # Convert the image to grayscale\n",
    "        gray = cv2.cvtColor(image, cv2.COLOR_BGR2GRAY)\n",
    "\n",
    "        # Detect hair using morphological operations\n",
    "        kernel = cv2.getStructuringElement(cv2.MORPH_RECT, (17, 17))\n",
    "        blackhat = cv2.morphologyEx(gray, cv2.MORPH_BLACKHAT, kernel)\n",
    "\n",
    "        # Threshold the blackhat image to create a mask for hair regions\n",
    "        _, hair_mask = cv2.threshold(blackhat, 10, 255, cv2.THRESH_BINARY)\n",
    "\n",
    "        # Inpaint the detected hair regions with minimal blur\n",
    "        inpainted_image = cv2.inpaint(image, hair_mask, inpaintRadius=3, flags=cv2.INPAINT_NS)  # Use Navier-Stokes inpainting\n",
    "\n",
    "        # Compare if the processed image is different from the original image\n",
    "        if np.array_equal(original_image, inpainted_image):\n",
    "            return None  # No change, return None to indicate no modification\n",
    "\n",
    "        # Return the modified image directly without saving\n",
    "        return inpainted_image  # Return the inpainted image directly\n",
    "    except Exception as e:\n",
    "        print(f\"Error during hair removal: {e}\")\n",
    "        raise"
   ]
  },
  {
   "cell_type": "code",
   "execution_count": 4,
   "metadata": {},
   "outputs": [],
   "source": [
    "# Data Augmentation and Generators\n",
    "train_datagen = ImageDataGenerator(\n",
    "    rescale=1./255,\n",
    "    rotation_range=20,\n",
    "    width_shift_range=0.2,\n",
    "    height_shift_range=0.2,\n",
    "    shear_range=0.2,\n",
    "    zoom_range=0.2,\n",
    "    horizontal_flip=True,\n",
    "    validation_split=0.2  # 20% for validation\n",
    ")"
   ]
  },
  {
   "cell_type": "code",
   "execution_count": 5,
   "metadata": {},
   "outputs": [],
   "source": [
    "def preprocess_image(image_path):\n",
    "    \"\"\"Preprocess the image by removing hair and resizing.\"\"\"\n",
    "    # Remove hair from the image\n",
    "    image = remove_hair(image_path)\n",
    "    if image is not None:\n",
    "        image = cv2.resize(image, IMG_SIZE)  # Resize the image to match IMG_SIZE\n",
    "        return image\n",
    "    return None"
   ]
  },
  {
   "cell_type": "code",
   "execution_count": 6,
   "metadata": {},
   "outputs": [
    {
     "name": "stdout",
     "output_type": "stream",
     "text": [
      "Found 1041 images belonging to 2 classes.\n"
     ]
    }
   ],
   "source": [
    "\n",
    "train_generator = train_datagen.flow_from_directory(\n",
    "    DATA_DIR,\n",
    "    target_size=IMG_SIZE,\n",
    "    batch_size=BATCH_SIZE,\n",
    "    class_mode='binary',  # Binary classification (normal vs. abnormal)\n",
    "    subset='training'\n",
    ")"
   ]
  },
  {
   "cell_type": "code",
   "execution_count": 7,
   "metadata": {},
   "outputs": [
    {
     "name": "stdout",
     "output_type": "stream",
     "text": [
      "Found 259 images belonging to 2 classes.\n"
     ]
    }
   ],
   "source": [
    "val_generator = train_datagen.flow_from_directory(\n",
    "    DATA_DIR,\n",
    "    target_size=IMG_SIZE,\n",
    "    batch_size=BATCH_SIZE,\n",
    "    class_mode='binary',\n",
    "    subset='validation'\n",
    ")"
   ]
  },
  {
   "cell_type": "code",
   "execution_count": 8,
   "metadata": {},
   "outputs": [],
   "source": [
    "# Model Definition\n",
    "model = Sequential([\n",
    "    Conv2D(32, (3, 3), activation='relu', input_shape=(IMG_SIZE[0], IMG_SIZE[1], 3)),\n",
    "    MaxPooling2D(pool_size=(2, 2)),\n",
    "    \n",
    "    Conv2D(64, (3, 3), activation='relu'),\n",
    "    MaxPooling2D(pool_size=(2, 2)),\n",
    "    \n",
    "    Conv2D(128, (3, 3), activation='relu'),\n",
    "    MaxPooling2D(pool_size=(2, 2)),\n",
    "    \n",
    "    Flatten(),\n",
    "    Dense(128, activation='relu'),\n",
    "    Dropout(0.5),\n",
    "    Dense(1, activation='sigmoid')  # Output layer for binary classification\n",
    "])\n"
   ]
  },
  {
   "cell_type": "code",
   "execution_count": 9,
   "metadata": {},
   "outputs": [
    {
     "name": "stdout",
     "output_type": "stream",
     "text": [
      "Epoch 1/20\n",
      "33/33 [==============================] - 139s 4s/step - loss: 0.2802 - accuracy: 0.8924 - val_loss: 0.3523 - val_accuracy: 0.9073\n",
      "Epoch 2/20\n",
      "33/33 [==============================] - 104s 3s/step - loss: 0.1725 - accuracy: 0.9251 - val_loss: 0.1629 - val_accuracy: 0.9498\n",
      "Epoch 3/20\n",
      "33/33 [==============================] - 70s 2s/step - loss: 0.1296 - accuracy: 0.9500 - val_loss: 0.0758 - val_accuracy: 0.9730\n",
      "Epoch 4/20\n",
      "33/33 [==============================] - 48s 1s/step - loss: 0.0974 - accuracy: 0.9645 - val_loss: 0.0720 - val_accuracy: 0.9730\n",
      "Epoch 5/20\n",
      "33/33 [==============================] - 37s 1s/step - loss: 0.0752 - accuracy: 0.9635 - val_loss: 0.0675 - val_accuracy: 0.9614\n",
      "Epoch 6/20\n",
      "33/33 [==============================] - 40s 1s/step - loss: 0.0710 - accuracy: 0.9721 - val_loss: 0.0391 - val_accuracy: 0.9807\n",
      "Epoch 7/20\n",
      "33/33 [==============================] - 40s 1s/step - loss: 0.0309 - accuracy: 0.9923 - val_loss: 0.0423 - val_accuracy: 0.9807\n",
      "Epoch 8/20\n",
      "33/33 [==============================] - 42s 1s/step - loss: 0.0567 - accuracy: 0.9750 - val_loss: 0.0389 - val_accuracy: 0.9846\n",
      "Epoch 9/20\n",
      "33/33 [==============================] - 42s 1s/step - loss: 0.0509 - accuracy: 0.9837 - val_loss: 0.0245 - val_accuracy: 0.9961\n",
      "Epoch 10/20\n",
      "33/33 [==============================] - 40s 1s/step - loss: 0.0361 - accuracy: 0.9875 - val_loss: 0.0779 - val_accuracy: 0.9730\n",
      "Epoch 11/20\n",
      "33/33 [==============================] - 41s 1s/step - loss: 0.0688 - accuracy: 0.9779 - val_loss: 0.0640 - val_accuracy: 0.9730\n",
      "Epoch 12/20\n",
      "33/33 [==============================] - 40s 1s/step - loss: 0.0203 - accuracy: 0.9933 - val_loss: 0.0167 - val_accuracy: 0.9923\n",
      "Epoch 13/20\n",
      "33/33 [==============================] - 40s 1s/step - loss: 0.2245 - accuracy: 0.9414 - val_loss: 0.0762 - val_accuracy: 0.9846\n",
      "Epoch 14/20\n",
      "33/33 [==============================] - 41s 1s/step - loss: 0.0688 - accuracy: 0.9741 - val_loss: 0.0434 - val_accuracy: 0.9923\n",
      "Epoch 15/20\n",
      "33/33 [==============================] - 43s 1s/step - loss: 0.0422 - accuracy: 0.9760 - val_loss: 0.0132 - val_accuracy: 0.9961\n",
      "Epoch 16/20\n",
      "33/33 [==============================] - 44s 1s/step - loss: 0.0159 - accuracy: 0.9952 - val_loss: 0.0220 - val_accuracy: 0.9884\n",
      "Epoch 17/20\n",
      "33/33 [==============================] - 42s 1s/step - loss: 0.0375 - accuracy: 0.9894 - val_loss: 0.0219 - val_accuracy: 0.9961\n",
      "Epoch 18/20\n",
      "33/33 [==============================] - 43s 1s/step - loss: 0.0594 - accuracy: 0.9798 - val_loss: 0.0373 - val_accuracy: 0.9884\n",
      "Epoch 19/20\n",
      "33/33 [==============================] - 44s 1s/step - loss: 0.0549 - accuracy: 0.9827 - val_loss: 0.2127 - val_accuracy: 0.9112\n",
      "Epoch 20/20\n",
      "33/33 [==============================] - 57s 2s/step - loss: 0.0276 - accuracy: 0.9904 - val_loss: 4.5555e-04 - val_accuracy: 1.0000\n"
     ]
    }
   ],
   "source": [
    "\n",
    "model.compile(optimizer='adam', loss='binary_crossentropy', metrics=['accuracy'])\n",
    "\n",
    "# Model Training\n",
    "history = model.fit(\n",
    "    train_generator,\n",
    "    validation_data=val_generator,\n",
    "    epochs=EPOCHS\n",
    ")"
   ]
  },
  {
   "cell_type": "code",
   "execution_count": 10,
   "metadata": {},
   "outputs": [
    {
     "name": "stderr",
     "output_type": "stream",
     "text": [
      "c:\\Users\\DELL\\AppData\\Local\\Programs\\Python\\Python311\\Lib\\site-packages\\keras\\src\\engine\\training.py:3000: UserWarning: You are saving your model as an HDF5 file via `model.save()`. This file format is considered legacy. We recommend using instead the native Keras format, e.g. `model.save('my_model.keras')`.\n",
      "  saving_api.save_model(\n"
     ]
    }
   ],
   "source": [
    "\n",
    "# Save the model\n",
    "model.save('skin_cancer_or_not_model.h5')\n"
   ]
  },
  {
   "cell_type": "code",
   "execution_count": 11,
   "metadata": {},
   "outputs": [
    {
     "data": {
      "image/png": "[encoded data removed]",
      "text/plain": [
       "<Figure size 1200x600 with 2 Axes>"
      ]
     },
     "metadata": {},
     "output_type": "display_data"
    }
   ],
   "source": [
    "# Plot Training Results\n",
    "def plot_training(history):\n",
    "    acc = history.history['accuracy']\n",
    "    val_acc = history.history['val_accuracy']\n",
    "    loss = history.history['loss']\n",
    "    val_loss = history.history['val_loss']\n",
    "\n",
    "    epochs = range(len(acc))\n",
    "\n",
    "    plt.figure(figsize=(12, 6))\n",
    "    plt.subplot(1, 2, 1)\n",
    "    plt.plot(epochs, acc, label='Training Accuracy')\n",
    "    plt.plot(epochs, val_acc, label='Validation Accuracy')\n",
    "    plt.title('Training and Validation Accuracy')\n",
    "    plt.legend()\n",
    "\n",
    "    plt.subplot(1, 2, 2)\n",
    "    plt.plot(epochs, loss, label='Training Loss')\n",
    "    plt.plot(epochs, val_loss, label='Validation Loss')\n",
    "    plt.title('Training and Validation Loss')\n",
    "    plt.legend()\n",
    "\n",
    "    plt.show()\n",
    "\n",
    "plot_training(history)"
   ]
  },
  {
   "cell_type": "code",
   "execution_count": null,
   "metadata": {},
   "outputs": [
    {
     "name": "stderr",
     "output_type": "stream",
     "text": [
      "WARNING:absl:Compiled the loaded model, but the compiled metrics have yet to be built. `model.compile_metrics` will be empty until you train or evaluate the model.\n"
     ]
    },
    {
     "name": "stdout",
     "output_type": "stream",
     "text": [
      "\u001b[1m1/1\u001b[0m \u001b[32m━━━━━━━━━━━━━━━━━━━━\u001b[0m\u001b[37m\u001b[0m \u001b[1m6s\u001b[0m 6s/step\n",
      "The image is classified as: **Cancerous Skin** (Abnormal) with confidence [0.9410702]\n"
     ]
    }
   ],
   "source": [
    "import numpy as np\n",
    "import tensorflow as tf\n",
    "from tensorflow.keras.preprocessing import image\n",
    "\n",
    "# Load the trained model\n",
    "model = tf.keras.models.load_model('skin_cancer_or_not_model.h5')  # Path to your saved model\n",
    "\n",
    "# Function to preprocess and predict an image\n",
    "def predict_image(img_path):\n",
    "    IMG_SIZE = (128, 128)  # Same as used during training\n",
    "    # Load and preprocess the image\n",
    "    img = image.load_img(img_path, target_size=IMG_SIZE)\n",
    "    img_array = image.img_to_array(img)  # Convert to array\n",
    "    img_array = np.expand_dims(img_array, axis=0)  # Add batch dimension\n",
    "    img_array = img_array / 255.0  # Normalize (rescale)\n",
    "    \n",
    "    # Make a prediction\n",
    "    prediction = model.predict(img_array)\n",
    "    \n",
    "    # Output result\n",
    "    if prediction[0] > 0.5:\n",
    "        print(f\"The image is classified as: **Cancerous Skin** (Abnormal) with confidence {prediction[0]}\")\n",
    "    else:\n",
    "        print(f\"The image is classified as: **Normal Skin** with confidence {1 - prediction[0]}\")\n",
    "\n",
    "# Test the function with an example image path\n",
    "test_image_path = r'F:\\modal1\\normal\\sdcvzx.jpg'  # Replace with your test image path\n",
    "predict_image(test_image_path)\n"
   ]
  },
  {
   "cell_type": "code",
   "execution_count": 13,
   "metadata": {},
   "outputs": [
    {
     "name": "stdout",
     "output_type": "stream",
     "text": [
      "(None, 128, 128, 3)\n"
     ]
    }
   ],
   "source": [
    "print(model.input_shape)\n"
   ]
  },
  {
   "cell_type": "code",
   "execution_count": null,
   "metadata": {},
   "outputs": [],
   "source": []
  },
  {
   "cell_type": "code",
   "execution_count": null,
   "metadata": {},
   "outputs": [],
   "source": []
  },
  {
   "cell_type": "code",
   "execution_count": null,
   "metadata": {},
   "outputs": [],
   "source": []
  },
  {
   "cell_type": "code",
   "execution_count": null,
   "metadata": {},
   "outputs": [],
   "source": []
  },
  {
   "cell_type": "code",
   "execution_count": null,
   "metadata": {},
   "outputs": [],
   "source": []
  },
  {
   "cell_type": "code",
   "execution_count": null,
   "metadata": {},
   "outputs": [],
   "source": []
  },
  {
   "cell_type": "code",
   "execution_count": null,
   "metadata": {},
   "outputs": [],
   "source": []
  },
  {
   "cell_type": "code",
   "execution_count": null,
   "metadata": {},
   "outputs": [
    {
     "name": "stdout",
     "output_type": "stream",
     "text": [
      "Found 1041 images belonging to 2 classes.\n",
      "Found 259 images belonging to 2 classes.\n",
      "Epoch 1/20\n"
     ]
    }
   ],
   "source": [
    "import tensorflow as tf\n",
    "from tensorflow.keras.applications import EfficientNetB3\n",
    "from tensorflow.keras.models import Sequential\n",
    "from tensorflow.keras.layers import Dense, Dropout, GlobalAveragePooling2D\n",
    "from tensorflow.keras.preprocessing.image import ImageDataGenerator\n",
    "from tensorflow.keras.callbacks import EarlyStopping\n",
    "import matplotlib.pyplot as plt\n",
    "\n",
    "# Constants\n",
    "IMG_SIZE = (300, 300)  # Set to 300x300 for best accuracy\n",
    "BATCH_SIZE = 32\n",
    "EPOCHS = 20\n",
    "DATA_DIR = r\"F:/modal1/\"\n",
    "\n",
    "# Data Augmentation\n",
    "train_datagen = ImageDataGenerator(\n",
    "    rescale=1./255,\n",
    "    rotation_range=20,\n",
    "    width_shift_range=0.2,\n",
    "    height_shift_range=0.2,\n",
    "    shear_range=0.2,\n",
    "    zoom_range=0.2,\n",
    "    horizontal_flip=True,\n",
    "    validation_split=0.2  # 20% for validation\n",
    ")\n",
    "\n",
    "train_generator = train_datagen.flow_from_directory(\n",
    "    DATA_DIR,\n",
    "    target_size=IMG_SIZE,\n",
    "    batch_size=BATCH_SIZE,\n",
    "    class_mode='binary',\n",
    "    subset='training'\n",
    ")\n",
    "\n",
    "val_generator = train_datagen.flow_from_directory(\n",
    "    DATA_DIR,\n",
    "    target_size=IMG_SIZE,\n",
    "    batch_size=BATCH_SIZE,\n",
    "    class_mode='binary',\n",
    "    subset='validation'\n",
    ")\n",
    "\n",
    "# Load Pretrained EfficientNetB3\n",
    "base_model = EfficientNetB3(weights=\"imagenet\", include_top=False, input_shape=(IMG_SIZE[0], IMG_SIZE[1], 3))\n",
    "\n",
    "# Fine-tune the model: Unfreeze some layers of EfficientNetB3\n",
    "base_model.trainable = True\n",
    "fine_tune_at = 200  # Unfreeze from layer 200 onwards\n",
    "for layer in base_model.layers[:fine_tune_at]:\n",
    "    layer.trainable = False\n",
    "\n",
    "# Model Definition\n",
    "model = Sequential([\n",
    "    base_model,\n",
    "    GlobalAveragePooling2D(),\n",
    "    Dense(128, activation='relu'),\n",
    "    Dropout(0.5),\n",
    "    Dense(1, activation='sigmoid')  # Binary classification\n",
    "])\n",
    "\n",
    "# Compile Model\n",
    "model.compile(optimizer=tf.keras.optimizers.Adam(learning_rate=1e-5), \n",
    "              loss='binary_crossentropy', \n",
    "              metrics=['accuracy'])\n",
    "\n",
    "# Early stopping to prevent overfitting\n",
    "early_stopping = EarlyStopping(monitor='val_loss', patience=5, restore_best_weights=True)\n",
    "\n",
    "# Train Model\n",
    "history = model.fit(\n",
    "    train_generator,\n",
    "    validation_data=val_generator,\n",
    "    epochs=EPOCHS,\n",
    "    callbacks=[early_stopping]\n",
    ")\n",
    "\n",
    "# Save Model\n",
    "model.save('efficientnetb3_skin_cancer_model.h5')\n",
    "\n",
    "# Plot training results\n",
    "def plot_training(history):\n",
    "    acc = history.history['accuracy']\n",
    "    val_acc = history.history['val_accuracy']\n",
    "    loss = history.history['loss']\n",
    "    val_loss = history.history['val_loss']\n",
    "\n",
    "    epochs = range(len(acc))\n",
    "\n",
    "    plt.figure(figsize=(12, 6))\n",
    "    plt.subplot(1, 2, 1)\n",
    "    plt.plot(epochs, acc, label='Training Accuracy')\n",
    "    plt.plot(epochs, val_acc, label='Validation Accuracy')\n",
    "    plt.title('Training and Validation Accuracy')\n",
    "    plt.legend()\n",
    "\n",
    "    plt.subplot(1, 2, 2)\n",
    "    plt.plot(epochs, loss, label='Training Loss')\n",
    "    plt.plot(epochs, val_loss, label='Validation Loss')\n",
    "    plt.title('Training and Validation Loss')\n",
    "    plt.legend()\n",
    "\n",
    "    plt.show()\n",
    "\n",
    "plot_training(history)\n"
   ]
  },
  {
   "cell_type": "code",
   "execution_count": 3,
   "metadata": {},
   "outputs": [
    {
     "name": "stderr",
     "output_type": "stream",
     "text": [
      "WARNING:absl:Compiled the loaded model, but the compiled metrics have yet to be built. `model.compile_metrics` will be empty until you train or evaluate the model.\n"
     ]
    },
    {
     "ename": "FileNotFoundError",
     "evalue": "[Errno 2] No such file or directory: 'path_to_test_image.jpg'",
     "output_type": "error",
     "traceback": [
      "\u001b[1;31m---------------------------------------------------------------------------\u001b[0m",
      "\u001b[1;31mFileNotFoundError\u001b[0m                         Traceback (most recent call last)",
      "Cell \u001b[1;32mIn[3], line 63\u001b[0m\n\u001b[0;32m     60\u001b[0m img_path \u001b[38;5;241m=\u001b[39m \u001b[38;5;124m\"\u001b[39m\u001b[38;5;124mpath_to_test_image.jpg\u001b[39m\u001b[38;5;124m\"\u001b[39m  \u001b[38;5;66;03m# Replace with your image path\u001b[39;00m\n\u001b[0;32m     62\u001b[0m \u001b[38;5;66;03m# Compute Grad-CAM\u001b[39;00m\n\u001b[1;32m---> 63\u001b[0m heatmap, original_img, predicted_class \u001b[38;5;241m=\u001b[39m \u001b[43mcompute_gradcam\u001b[49m\u001b[43m(\u001b[49m\u001b[43mimg_path\u001b[49m\u001b[43m,\u001b[49m\u001b[43m \u001b[49m\u001b[43mmodel\u001b[49m\u001b[43m)\u001b[49m\n\u001b[0;32m     65\u001b[0m \u001b[38;5;66;03m# Overlay the heatmap\u001b[39;00m\n\u001b[0;32m     66\u001b[0m gradcam_image \u001b[38;5;241m=\u001b[39m overlay_heatmap(heatmap, original_img)\n",
      "Cell \u001b[1;32mIn[3], line 21\u001b[0m, in \u001b[0;36mcompute_gradcam\u001b[1;34m(img_path, model, last_conv_layer_name)\u001b[0m\n\u001b[0;32m     20\u001b[0m \u001b[38;5;28;01mdef\u001b[39;00m \u001b[38;5;21mcompute_gradcam\u001b[39m(img_path, model, last_conv_layer_name\u001b[38;5;241m=\u001b[39m\u001b[38;5;124m\"\u001b[39m\u001b[38;5;124mtop_conv\u001b[39m\u001b[38;5;124m\"\u001b[39m):\n\u001b[1;32m---> 21\u001b[0m     img_array, original_img \u001b[38;5;241m=\u001b[39m \u001b[43mpreprocess_image\u001b[49m\u001b[43m(\u001b[49m\u001b[43mimg_path\u001b[49m\u001b[43m)\u001b[49m\n\u001b[0;32m     23\u001b[0m     \u001b[38;5;66;03m# Get model output and gradient with respect to last conv layer\u001b[39;00m\n\u001b[0;32m     24\u001b[0m     grad_model \u001b[38;5;241m=\u001b[39m tf\u001b[38;5;241m.\u001b[39mkeras\u001b[38;5;241m.\u001b[39mmodels\u001b[38;5;241m.\u001b[39mModel(\n\u001b[0;32m     25\u001b[0m         [model\u001b[38;5;241m.\u001b[39minputs], [model\u001b[38;5;241m.\u001b[39mget_layer(last_conv_layer_name)\u001b[38;5;241m.\u001b[39moutput, model\u001b[38;5;241m.\u001b[39moutput]\n\u001b[0;32m     26\u001b[0m     )\n",
      "Cell \u001b[1;32mIn[3], line 13\u001b[0m, in \u001b[0;36mpreprocess_image\u001b[1;34m(img_path, img_size)\u001b[0m\n\u001b[0;32m     12\u001b[0m \u001b[38;5;28;01mdef\u001b[39;00m \u001b[38;5;21mpreprocess_image\u001b[39m(img_path, img_size\u001b[38;5;241m=\u001b[39m(\u001b[38;5;241m300\u001b[39m, \u001b[38;5;241m300\u001b[39m)):\n\u001b[1;32m---> 13\u001b[0m     img \u001b[38;5;241m=\u001b[39m \u001b[43mimage\u001b[49m\u001b[38;5;241;43m.\u001b[39;49m\u001b[43mload_img\u001b[49m\u001b[43m(\u001b[49m\u001b[43mimg_path\u001b[49m\u001b[43m,\u001b[49m\u001b[43m \u001b[49m\u001b[43mtarget_size\u001b[49m\u001b[38;5;241;43m=\u001b[39;49m\u001b[43mimg_size\u001b[49m\u001b[43m)\u001b[49m\n\u001b[0;32m     14\u001b[0m     img_array \u001b[38;5;241m=\u001b[39m image\u001b[38;5;241m.\u001b[39mimg_to_array(img)\n\u001b[0;32m     15\u001b[0m     img_array \u001b[38;5;241m=\u001b[39m np\u001b[38;5;241m.\u001b[39mexpand_dims(img_array, axis\u001b[38;5;241m=\u001b[39m\u001b[38;5;241m0\u001b[39m)  \u001b[38;5;66;03m# Add batch dimension\u001b[39;00m\n",
      "File \u001b[1;32mc:\\Users\\DELL\\AppData\\Local\\Programs\\Python\\Python311\\Lib\\site-packages\\keras\\src\\utils\\image_utils.py:235\u001b[0m, in \u001b[0;36mload_img\u001b[1;34m(path, color_mode, target_size, interpolation, keep_aspect_ratio)\u001b[0m\n\u001b[0;32m    233\u001b[0m     \u001b[38;5;28;01mif\u001b[39;00m \u001b[38;5;28misinstance\u001b[39m(path, pathlib\u001b[38;5;241m.\u001b[39mPath):\n\u001b[0;32m    234\u001b[0m         path \u001b[38;5;241m=\u001b[39m \u001b[38;5;28mstr\u001b[39m(path\u001b[38;5;241m.\u001b[39mresolve())\n\u001b[1;32m--> 235\u001b[0m     \u001b[38;5;28;01mwith\u001b[39;00m \u001b[38;5;28mopen\u001b[39m(path, \u001b[38;5;124m\"\u001b[39m\u001b[38;5;124mrb\u001b[39m\u001b[38;5;124m\"\u001b[39m) \u001b[38;5;28;01mas\u001b[39;00m f:\n\u001b[0;32m    236\u001b[0m         img \u001b[38;5;241m=\u001b[39m pil_image\u001b[38;5;241m.\u001b[39mopen(io\u001b[38;5;241m.\u001b[39mBytesIO(f\u001b[38;5;241m.\u001b[39mread()))\n\u001b[0;32m    237\u001b[0m \u001b[38;5;28;01melse\u001b[39;00m:\n",
      "\u001b[1;31mFileNotFoundError\u001b[0m: [Errno 2] No such file or directory: 'path_to_test_image.jpg'"
     ]
    }
   ],
   "source": [
    "import numpy as np\n",
    "import tensorflow as tf\n",
    "import cv2\n",
    "import matplotlib.pyplot as plt\n",
    "from tensorflow.keras.models import load_model\n",
    "from tensorflow.keras.preprocessing import image\n",
    "\n",
    "# Load trained model\n",
    "model = load_model(\"efficientnetb3_skin_cancer_model.h5\")\n",
    "\n",
    "# Function to preprocess an image\n",
    "def preprocess_image(img_path, img_size=(300, 300)):\n",
    "    img = image.load_img(img_path, target_size=img_size)\n",
    "    img_array = image.img_to_array(img)\n",
    "    img_array = np.expand_dims(img_array, axis=0)  # Add batch dimension\n",
    "    img_array /= 255.0  # Normalize\n",
    "    return img_array, np.array(img)\n",
    "\n",
    "# Function to compute Grad-CAM\n",
    "def compute_gradcam(img_path, model, last_conv_layer_name=\"top_conv\"):\n",
    "    img_array, original_img = preprocess_image(img_path)\n",
    "\n",
    "    # Get model output and gradient with respect to last conv layer\n",
    "    grad_model = tf.keras.models.Model(\n",
    "        [model.inputs], [model.get_layer(last_conv_layer_name).output, model.output]\n",
    "    )\n",
    "\n",
    "    with tf.GradientTape() as tape:\n",
    "        conv_outputs, predictions = grad_model(img_array)\n",
    "        predicted_class = predictions[0][0]  # Binary classification\n",
    "\n",
    "        # Compute gradients\n",
    "        grads = tape.gradient(predictions, conv_outputs)\n",
    "\n",
    "    # Compute importance weights\n",
    "    pooled_grads = tf.reduce_mean(grads, axis=(0, 1, 2))\n",
    "    conv_outputs = conv_outputs[0]\n",
    "\n",
    "    # Compute heatmap\n",
    "    for i in range(pooled_grads.shape[-1]):\n",
    "        conv_outputs[:, :, i] *= pooled_grads[i]\n",
    "\n",
    "    heatmap = np.mean(conv_outputs, axis=-1)\n",
    "    heatmap = np.maximum(heatmap, 0)  # ReLU\n",
    "    heatmap /= np.max(heatmap)  # Normalize\n",
    "\n",
    "    return heatmap, original_img, predicted_class\n",
    "\n",
    "# Function to overlay Grad-CAM heatmap on the original image\n",
    "def overlay_heatmap(heatmap, original_img, alpha=0.4):\n",
    "    heatmap = cv2.resize(heatmap, (original_img.shape[1], original_img.shape[0]))\n",
    "    heatmap = np.uint8(255 * heatmap)\n",
    "    heatmap = cv2.applyColorMap(heatmap, cv2.COLORMAP_JET)\n",
    "\n",
    "    # Overlay heatmap on original image\n",
    "    superimposed_img = cv2.addWeighted(heatmap, alpha, np.array(original_img), 1 - alpha, 0)\n",
    "    return superimposed_img\n",
    "\n",
    "# Path to an image for visualization\n",
    "img_path = \"path_to_test_image.jpg\"  # Replace with your image path\n",
    "\n",
    "# Compute Grad-CAM\n",
    "heatmap, original_img, predicted_class = compute_gradcam(img_path, model)\n",
    "\n",
    "# Overlay the heatmap\n",
    "gradcam_image = overlay_heatmap(heatmap, original_img)\n",
    "\n",
    "# Display results\n",
    "plt.figure(figsize=(12, 5))\n",
    "\n",
    "# Original Image\n",
    "plt.subplot(1, 3, 1)\n",
    "plt.imshow(original_img)\n",
    "plt.axis(\"off\")\n",
    "plt.title(\"Original Image\")\n",
    "\n",
    "# Grad-CAM Heatmap\n",
    "plt.subplot(1, 3, 2)\n",
    "plt.imshow(heatmap, cmap=\"jet\")\n",
    "plt.axis(\"off\")\n",
    "plt.title(\"Grad-CAM Heatmap\")\n",
    "\n",
    "# Overlayed Image\n",
    "plt.subplot(1, 3, 3)\n",
    "plt.imshow(gradcam_image)\n",
    "plt.axis(\"off\")\n",
    "plt.title(f\"Grad-CAM Overlay (Prediction: {predicted_class:.2f})\")\n",
    "\n",
    "plt.show()\n"
   ]
  },
  {
   "cell_type": "code",
   "execution_count": null,
   "metadata": {},
   "outputs": [],
   "source": []
  },
  {
   "cell_type": "code",
   "execution_count": 14,
   "metadata": {},
   "outputs": [
    {
     "name": "stderr",
     "output_type": "stream",
     "text": [
      "WARNING:absl:Compiled the loaded model, but the compiled metrics have yet to be built. `model.compile_metrics` will be empty until you train or evaluate the model.\n"
     ]
    },
    {
     "name": "stdout",
     "output_type": "stream",
     "text": [
      "\u001b[1m1/1\u001b[0m \u001b[32m━━━━━━━━━━━━━━━━━━━━\u001b[0m\u001b[37m\u001b[0m \u001b[1m5s\u001b[0m 5s/step\n",
      "Raw Prediction Output: 0.09928282350301743\n",
      "The image is classified as: **Cancerous Skin** (Abnormal) with confidence 0.90\n"
     ]
    }
   ],
   "source": [
    "import numpy as np\n",
    "import tensorflow as tf\n",
    "from tensorflow.keras.preprocessing import image\n",
    "\n",
    "# Load the trained model\n",
    "model = tf.keras.models.load_model('efficientnetb3_skin_cancer_model.h5')  # Path to your saved model\n",
    "\n",
    "def predict_image(img_path):\n",
    "    IMG_SIZE = (300, 300)  # Same size as used during training\n",
    "    # Load and preprocess the image\n",
    "    img = image.load_img(img_path, target_size=IMG_SIZE)\n",
    "    img_array = image.img_to_array(img)  # Convert to array\n",
    "    img_array = np.expand_dims(img_array, axis=0)  # Add batch dimension\n",
    "    img_array = img_array / 255.0  # Normalize the image\n",
    "\n",
    "    # Make a prediction\n",
    "    prediction = model.predict(img_array)\n",
    "\n",
    "    # Show raw prediction output\n",
    "    print(f\"Raw Prediction Output: {prediction[0][0]}\")  # Output between 0 and 1\n",
    "\n",
    "    # Adjust threshold here (e.g., use 0.6)\n",
    "    threshold = 0.6\n",
    "    if prediction[0][0] < threshold:\n",
    "        print(f\"The image is classified as: **Cancerous Skin** (Abnormal) with confidence {1 - prediction[0][0]:.2f}\")\n",
    "    else:\n",
    "        print(f\"The image is classified as: **Normal Skin** with confidence {prediction[0][0]:.2f}\")\n",
    "\n",
    "# Test the function with an example image path\n",
    "test_image_path = r'F:\\modal1\\normal\\photo_3_2023-06-24_12-13-13.jpg'  # Replace with your test image path\n",
    "predict_image(test_image_path)\n"
   ]
  },
  {
   "cell_type": "code",
   "execution_count": null,
   "metadata": {},
   "outputs": [],
   "source": []
  }
 ],
 "metadata": {
  "kernelspec": {
   "display_name": "Python 3",
   "language": "python",
   "name": "python3"
  },
  "language_info": {
   "codemirror_mode": {
    "name": "ipython",
    "version": 3
   },
   "file_extension": ".py",
   "mimetype": "text/x-python",
   "name": "python",
   "nbconvert_exporter": "python",
   "pygments_lexer": "ipython3",
   "version": "3.11.0"
  }
 },
 "nbformat": 4,
 "nbformat_minor": 2
}
